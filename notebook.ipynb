{
 "cells": [
  {
   "attachments": {},
   "cell_type": "markdown",
   "metadata": {},
   "source": [
    "Pick any language, any platform (Java, SQL, C++, Python, VBA,  Camstar business rule, Matlab, SysML, 6502 assembly…)\n",
    "\n",
    "Oligo chains are made up of sequences: GCTTAGGA etc. The number of bases determines the chain length. GTTA is smaller than GATTATA. 4 bases vs 7 bases.\n",
    "\n",
    "Ion coupling with oligo chains has been identified as a new flowcell failure mode. This can only happen when an ion can travel  from outside of the flowcell, either along a column or row and from a shorter to a taller oligo chain. Taller to shorter or same height to same height cannot occur. Diagonal movement is also not possible.\n",
    "\n",
    "The oligo chain length on a flowcell has been measured with the following results:\n",
    "\n",
    "![Alt text](flowcell.png)\n",
    "\n",
    "For example, the 4 bases length oligo in the lower right area is not susceptible to this failure mode.\n",
    "\n",
    "Create an program that can calculate the likely yield of uncoupled oligos on this flowcell.\n",
    "\n",
    "Could it be scaled to larger array sizes?\n",
    "\n",
    "Send me your entries. We’ll evaluate on the following (where possible):\n",
    "\n",
    "- Source code size (lower the better)\n",
    "- Compiled file size (lower the better)\n",
    "- Rube Goldberg quotient (the more elaborate/creative the better)\n"
   ]
  },
  {
   "cell_type": "code",
   "execution_count": 1,
   "metadata": {},
   "outputs": [],
   "source": [
    "import numpy as np"
   ]
  },
  {
   "cell_type": "code",
   "execution_count": 2,
   "metadata": {},
   "outputs": [],
   "source": [
    "flowcell = [\n",
    "    [3, 0, 3, 7, 3],\n",
    "    [2, 5, 5, 1, 2],\n",
    "    [6, 5, 3, 3, 2],\n",
    "    [3, 3, 5, 4, 9],\n",
    "    [3, 5, 3, 9, 0]\n",
    "]"
   ]
  },
  {
   "cell_type": "code",
   "execution_count": 3,
   "metadata": {},
   "outputs": [
    {
     "data": {
      "text/plain": [
       "array([[3, 0, 3, 7, 3],\n",
       "       [2, 5, 5, 1, 2],\n",
       "       [6, 5, 3, 3, 2],\n",
       "       [3, 3, 5, 4, 9],\n",
       "       [3, 5, 3, 9, 0]])"
      ]
     },
     "execution_count": 3,
     "metadata": {},
     "output_type": "execute_result"
    }
   ],
   "source": [
    "flowcell = np.array(flowcell)\n",
    "flowcell"
   ]
  },
  {
   "cell_type": "code",
   "execution_count": 23,
   "metadata": {},
   "outputs": [
    {
     "data": {
      "text/plain": [
       "4"
      ]
     },
     "execution_count": 23,
     "metadata": {},
     "output_type": "execute_result"
    }
   ],
   "source": [
    "count = 0\n",
    "for i in range(1, len(flowcell)-1):\n",
    "    for j in range(1, len(flowcell[0])-1):\n",
    "        curr = flowcell[i,j]\n",
    "        up = flowcell[:i,j]\n",
    "        down = flowcell[i+1:,j]\n",
    "        left = flowcell[i,:j]\n",
    "        right = flowcell[i,j+1:]\n",
    "        \n",
    "        if all([curr <= max(up), curr <= max(down), curr <= max(left), curr <= max(right)]):\n",
    "            count += 1\n",
    "            \n",
    "count"
   ]
  },
  {
   "cell_type": "code",
   "execution_count": 35,
   "metadata": {},
   "outputs": [],
   "source": [
    "def oligo(fc):\n",
    "    count = 0\n",
    "    for i in range(1, len(fc)-1):\n",
    "        for j in range(1, len(fc[0])-1):\n",
    "            c = fc[i,j]\n",
    "            d = np.array([max(i) for i in [fc[:i,j], fc[i+1:,j], fc[i,:j], fc[i,j+1:]]])\n",
    "            if all(c <= d):\n",
    "                count += 1\n",
    "    return count\n",
    "    "
   ]
  },
  {
   "cell_type": "code",
   "execution_count": 36,
   "metadata": {},
   "outputs": [
    {
     "data": {
      "text/plain": [
       "4"
      ]
     },
     "execution_count": 36,
     "metadata": {},
     "output_type": "execute_result"
    }
   ],
   "source": [
    "oligo(flowcell)"
   ]
  },
  {
   "attachments": {},
   "cell_type": "markdown",
   "metadata": {},
   "source": [
    "![Alt text](solution.jpg)"
   ]
  }
 ],
 "metadata": {
  "kernelspec": {
   "display_name": "lewagon",
   "language": "python",
   "name": "python3"
  },
  "language_info": {
   "codemirror_mode": {
    "name": "ipython",
    "version": 3
   },
   "file_extension": ".py",
   "mimetype": "text/x-python",
   "name": "python",
   "nbconvert_exporter": "python",
   "pygments_lexer": "ipython3",
   "version": "3.10.6"
  },
  "orig_nbformat": 4,
  "vscode": {
   "interpreter": {
    "hash": "c9a44c4da8339f5d47d5f9f54e97b529831445c4ff02527368c72aece066d70d"
   }
  }
 },
 "nbformat": 4,
 "nbformat_minor": 2
}
