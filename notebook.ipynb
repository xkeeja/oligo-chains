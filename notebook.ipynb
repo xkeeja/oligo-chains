{
 "cells": [
  {
   "cell_type": "code",
   "execution_count": 2,
   "metadata": {},
   "outputs": [],
   "source": [
    "import numpy as np"
   ]
  },
  {
   "cell_type": "code",
   "execution_count": 6,
   "metadata": {},
   "outputs": [],
   "source": [
    "flowcell = [\n",
    "    [3, 0, 3, 7, 3],\n",
    "    [2, 5, 5, 1, 2],\n",
    "    [6, 5, 3, 3, 2],\n",
    "    [3, 3, 5, 4, 9],\n",
    "    [3, 5, 3, 9, 0]\n",
    "]"
   ]
  },
  {
   "cell_type": "code",
   "execution_count": 7,
   "metadata": {},
   "outputs": [
    {
     "data": {
      "text/plain": [
       "array([[3, 0, 3, 7, 3],\n",
       "       [2, 5, 5, 1, 2],\n",
       "       [6, 5, 3, 3, 2],\n",
       "       [3, 3, 5, 4, 9],\n",
       "       [3, 5, 3, 9, 0]])"
      ]
     },
     "execution_count": 7,
     "metadata": {},
     "output_type": "execute_result"
    }
   ],
   "source": [
    "flowcell = np.array(flowcell)\n",
    "flowcell"
   ]
  },
  {
   "cell_type": "code",
   "execution_count": 8,
   "metadata": {},
   "outputs": [
    {
     "data": {
      "text/plain": [
       "array([[-1, -1, -1, -1, -1, -1, -1],\n",
       "       [-1,  3,  0,  3,  7,  3, -1],\n",
       "       [-1,  2,  5,  5,  1,  2, -1],\n",
       "       [-1,  6,  5,  3,  3,  2, -1],\n",
       "       [-1,  3,  3,  5,  4,  9, -1],\n",
       "       [-1,  3,  5,  3,  9,  0, -1],\n",
       "       [-1, -1, -1, -1, -1, -1, -1]])"
      ]
     },
     "execution_count": 8,
     "metadata": {},
     "output_type": "execute_result"
    }
   ],
   "source": [
    "flowcell = np.pad(flowcell, pad_width=1, mode='constant', constant_values=-1)\n",
    "flowcell"
   ]
  },
  {
   "cell_type": "code",
   "execution_count": 12,
   "metadata": {},
   "outputs": [
    {
     "data": {
      "text/plain": [
       "{'11': {'v': 3, 'n': {-1, 0, 2}},\n",
       " '12': {'v': 0, 'n': {-1, 3, 5}},\n",
       " '13': {'v': 3, 'n': {-1, 0, 5, 7}},\n",
       " '14': {'v': 7, 'n': {-1, 1, 3}},\n",
       " '15': {'v': 3, 'n': {-1, 2, 7}},\n",
       " '21': {'v': 2, 'n': {-1, 3, 5, 6}},\n",
       " '22': {'v': 5, 'n': {0, 2, 5}},\n",
       " '23': {'v': 5, 'n': {1, 3, 5}},\n",
       " '24': {'v': 1, 'n': {2, 3, 5, 7}},\n",
       " '25': {'v': 2, 'n': {-1, 1, 2, 3}},\n",
       " '31': {'v': 6, 'n': {-1, 2, 3, 5}},\n",
       " '32': {'v': 5, 'n': {3, 5, 6}},\n",
       " '33': {'v': 3, 'n': {3, 5}},\n",
       " '34': {'v': 3, 'n': {1, 2, 3, 4}},\n",
       " '35': {'v': 2, 'n': {-1, 2, 3, 9}},\n",
       " '41': {'v': 3, 'n': {-1, 3, 6}},\n",
       " '42': {'v': 3, 'n': {3, 5}},\n",
       " '43': {'v': 5, 'n': {3, 4}},\n",
       " '44': {'v': 4, 'n': {3, 5, 9}},\n",
       " '45': {'v': 9, 'n': {-1, 0, 2, 4}},\n",
       " '51': {'v': 3, 'n': {-1, 3, 5}},\n",
       " '52': {'v': 5, 'n': {-1, 3}},\n",
       " '53': {'v': 3, 'n': {-1, 5, 9}},\n",
       " '54': {'v': 9, 'n': {-1, 0, 3, 4}},\n",
       " '55': {'v': 0, 'n': {-1, 9}}}"
      ]
     },
     "execution_count": 12,
     "metadata": {},
     "output_type": "execute_result"
    }
   ],
   "source": [
    "neighbors = {}\n",
    "\n",
    "for i in range(1, len(flowcell)-1):\n",
    "    for j in range(1, len(flowcell[0])-1):\n",
    "        neighbors[f'{i}{j}'] = {\n",
    "            'v':flowcell[i][j], \n",
    "            'n':{\n",
    "                flowcell[i-1][j],\n",
    "                flowcell[i][j-1],\n",
    "                flowcell[i][j+1],\n",
    "                flowcell[i+1][j]\n",
    "            }}\n",
    "\n",
    "neighbors"
   ]
  },
  {
   "cell_type": "code",
   "execution_count": 15,
   "metadata": {},
   "outputs": [
    {
     "data": {
      "text/plain": [
       "9"
      ]
     },
     "execution_count": 15,
     "metadata": {},
     "output_type": "execute_result"
    }
   ],
   "source": [
    "count = 0\n",
    "\n",
    "for i in neighbors.values():\n",
    "    if i['v'] >= max(i['n']):\n",
    "        count += 1\n",
    "\n",
    "count"
   ]
  }
 ],
 "metadata": {
  "kernelspec": {
   "display_name": "lewagon",
   "language": "python",
   "name": "python3"
  },
  "language_info": {
   "codemirror_mode": {
    "name": "ipython",
    "version": 3
   },
   "file_extension": ".py",
   "mimetype": "text/x-python",
   "name": "python",
   "nbconvert_exporter": "python",
   "pygments_lexer": "ipython3",
   "version": "3.8.12"
  },
  "orig_nbformat": 4,
  "vscode": {
   "interpreter": {
    "hash": "4a145b2d9c27c5d2f2540596900ae9d0676811e797129b3609780b53a95c54f8"
   }
  }
 },
 "nbformat": 4,
 "nbformat_minor": 2
}
